{
 "cells": [
  {
   "cell_type": "code",
   "execution_count": null,
   "id": "e6ef59cf",
   "metadata": {},
   "outputs": [],
   "source": [
    "# As per th e data sources, the unemployement rate is highest more than year of 2019.\n",
    "#total_unemployment_2019=4041.5899999999997\n",
    "#total_unemployment_2020=4681.49\n",
    "\n",
    "# if we compare total calculation unemplyement rate between urban area and rural area, It confirms that urban area has highest unemployement rate.\n",
    "#total_unemployment_Urban=5016.48\n",
    "#total_unemployment_Rural=3706.5999999999995\n",
    "\n",
    "# After the satastic visulisation the employemt rate will touch.\n",
    "#Mean Unemployment Rate: 11.79%\n",
    "#Median Unemployment Rate: 8.35%\n",
    "#Standard Deviation of Unemployment Rate: 10.72%\n",
    "\n",
    "# After visulisation, Top 5 regions with the highest unemployment rates:\n",
    "         #Region  Estimated Unemployment Rate (%)\n",
    "#627  Puducherry                            76.74\n",
    "#628  Puducherry                            75.00\n",
    "#242  Puducherry                            74.51\n",
    "#531   Jharkhand                            70.17\n",
    "#530   Jharkhand                            61.48\n",
    "\n"
   ]
  },
  {
   "cell_type": "code",
   "execution_count": 21,
   "id": "ba75ba4c",
   "metadata": {},
   "outputs": [],
   "source": [
    "import numpy as np\n",
    "import pandas as pd\n",
    "import seaborn as sns\n",
    "import matplotlib.pyplot as plt\n",
    "import plotly as px"
   ]
  },
  {
   "cell_type": "code",
   "execution_count": 2,
   "id": "e86b6933",
   "metadata": {},
   "outputs": [],
   "source": [
    "df = pd.read_csv(r\"C:\\Users\\rjhon\\Downloads\\Unemployment in India (1).csv\")"
   ]
  },
  {
   "cell_type": "code",
   "execution_count": 3,
   "id": "6052a970",
   "metadata": {},
   "outputs": [
    {
     "name": "stdout",
     "output_type": "stream",
     "text": [
      "             Region         Date  Frequency   Estimated Unemployment Rate (%)  \\\n",
      "0    Andhra Pradesh   31-05-2019    Monthly                              3.65   \n",
      "1    Andhra Pradesh   30-06-2019    Monthly                              3.05   \n",
      "2    Andhra Pradesh   31-07-2019    Monthly                              3.75   \n",
      "3    Andhra Pradesh   31-08-2019    Monthly                              3.32   \n",
      "4    Andhra Pradesh   30-09-2019    Monthly                              5.17   \n",
      "..              ...          ...        ...                               ...   \n",
      "763             NaN          NaN        NaN                               NaN   \n",
      "764             NaN          NaN        NaN                               NaN   \n",
      "765             NaN          NaN        NaN                               NaN   \n",
      "766             NaN          NaN        NaN                               NaN   \n",
      "767             NaN          NaN        NaN                               NaN   \n",
      "\n",
      "      Estimated Employed   Estimated Labour Participation Rate (%)   Area  \n",
      "0             11999139.0                                     43.24  Rural  \n",
      "1             11755881.0                                     42.05  Rural  \n",
      "2             12086707.0                                     43.50  Rural  \n",
      "3             12285693.0                                     43.97  Rural  \n",
      "4             12256762.0                                     44.68  Rural  \n",
      "..                   ...                                       ...    ...  \n",
      "763                  NaN                                       NaN    NaN  \n",
      "764                  NaN                                       NaN    NaN  \n",
      "765                  NaN                                       NaN    NaN  \n",
      "766                  NaN                                       NaN    NaN  \n",
      "767                  NaN                                       NaN    NaN  \n",
      "\n",
      "[768 rows x 7 columns]\n"
     ]
    }
   ],
   "source": [
    "print (df)"
   ]
  },
  {
   "cell_type": "code",
   "execution_count": 4,
   "id": "0264a6f0",
   "metadata": {},
   "outputs": [
    {
     "data": {
      "text/plain": [
       "(768, 7)"
      ]
     },
     "execution_count": 4,
     "metadata": {},
     "output_type": "execute_result"
    }
   ],
   "source": [
    "df.shape"
   ]
  },
  {
   "cell_type": "code",
   "execution_count": 5,
   "id": "8b6759ff",
   "metadata": {},
   "outputs": [
    {
     "data": {
      "text/plain": [
       "<bound method DataFrame.isnull of              Region         Date  Frequency   Estimated Unemployment Rate (%)  \\\n",
       "0    Andhra Pradesh   31-05-2019    Monthly                              3.65   \n",
       "1    Andhra Pradesh   30-06-2019    Monthly                              3.05   \n",
       "2    Andhra Pradesh   31-07-2019    Monthly                              3.75   \n",
       "3    Andhra Pradesh   31-08-2019    Monthly                              3.32   \n",
       "4    Andhra Pradesh   30-09-2019    Monthly                              5.17   \n",
       "..              ...          ...        ...                               ...   \n",
       "763             NaN          NaN        NaN                               NaN   \n",
       "764             NaN          NaN        NaN                               NaN   \n",
       "765             NaN          NaN        NaN                               NaN   \n",
       "766             NaN          NaN        NaN                               NaN   \n",
       "767             NaN          NaN        NaN                               NaN   \n",
       "\n",
       "      Estimated Employed   Estimated Labour Participation Rate (%)   Area  \n",
       "0             11999139.0                                     43.24  Rural  \n",
       "1             11755881.0                                     42.05  Rural  \n",
       "2             12086707.0                                     43.50  Rural  \n",
       "3             12285693.0                                     43.97  Rural  \n",
       "4             12256762.0                                     44.68  Rural  \n",
       "..                   ...                                       ...    ...  \n",
       "763                  NaN                                       NaN    NaN  \n",
       "764                  NaN                                       NaN    NaN  \n",
       "765                  NaN                                       NaN    NaN  \n",
       "766                  NaN                                       NaN    NaN  \n",
       "767                  NaN                                       NaN    NaN  \n",
       "\n",
       "[768 rows x 7 columns]>"
      ]
     },
     "execution_count": 5,
     "metadata": {},
     "output_type": "execute_result"
    }
   ],
   "source": [
    "df.isnull"
   ]
  },
  {
   "cell_type": "code",
   "execution_count": 23,
   "id": "3ff5d628",
   "metadata": {},
   "outputs": [
    {
     "data": {
      "text/plain": [
       "<bound method DataFrame.notnull of              Region       Date Frequency  Estimated Unemployment Rate (%)  \\\n",
       "0    Andhra Pradesh 2019-05-31   Monthly                             3.65   \n",
       "1    Andhra Pradesh 2019-06-30   Monthly                             3.05   \n",
       "2    Andhra Pradesh 2019-07-31   Monthly                             3.75   \n",
       "3    Andhra Pradesh 2019-08-31   Monthly                             3.32   \n",
       "4    Andhra Pradesh 2019-09-30   Monthly                             5.17   \n",
       "..              ...        ...       ...                              ...   \n",
       "749     West Bengal 2020-02-29   Monthly                             7.55   \n",
       "750     West Bengal 2020-03-31   Monthly                             6.67   \n",
       "751     West Bengal 2020-04-30   Monthly                            15.63   \n",
       "752     West Bengal 2020-05-31   Monthly                            15.22   \n",
       "753     West Bengal 2020-06-30   Monthly                             9.86   \n",
       "\n",
       "     Estimated Employed  Estimated Labour Participation Rate (%)   Area  year  \\\n",
       "0            11999139.0                                    43.24  Rural  2019   \n",
       "1            11755881.0                                    42.05  Rural  2019   \n",
       "2            12086707.0                                    43.50  Rural  2019   \n",
       "3            12285693.0                                    43.97  Rural  2019   \n",
       "4            12256762.0                                    44.68  Rural  2019   \n",
       "..                  ...                                      ...    ...   ...   \n",
       "749          10871168.0                                    44.09  Urban  2020   \n",
       "750          10806105.0                                    43.34  Urban  2020   \n",
       "751           9299466.0                                    41.20  Urban  2020   \n",
       "752           9240903.0                                    40.67  Urban  2020   \n",
       "753           9088931.0                                    37.57  Urban  2020   \n",
       "\n",
       "    month  \n",
       "0     May  \n",
       "1     Jun  \n",
       "2     Jul  \n",
       "3     Aug  \n",
       "4     Sep  \n",
       "..    ...  \n",
       "749   Feb  \n",
       "750   Mar  \n",
       "751   Apr  \n",
       "752   May  \n",
       "753   Jun  \n",
       "\n",
       "[740 rows x 9 columns]>"
      ]
     },
     "execution_count": 23,
     "metadata": {},
     "output_type": "execute_result"
    }
   ],
   "source": [
    "df.notnull"
   ]
  },
  {
   "cell_type": "code",
   "execution_count": 22,
   "id": "418f6341",
   "metadata": {},
   "outputs": [
    {
     "data": {
      "text/html": [
       "<div>\n",
       "<style scoped>\n",
       "    .dataframe tbody tr th:only-of-type {\n",
       "        vertical-align: middle;\n",
       "    }\n",
       "\n",
       "    .dataframe tbody tr th {\n",
       "        vertical-align: top;\n",
       "    }\n",
       "\n",
       "    .dataframe thead th {\n",
       "        text-align: right;\n",
       "    }\n",
       "</style>\n",
       "<table border=\"1\" class=\"dataframe\">\n",
       "  <thead>\n",
       "    <tr style=\"text-align: right;\">\n",
       "      <th></th>\n",
       "      <th>Region</th>\n",
       "      <th>Date</th>\n",
       "      <th>Frequency</th>\n",
       "      <th>Estimated Unemployment Rate (%)</th>\n",
       "      <th>Estimated Employed</th>\n",
       "      <th>Estimated Labour Participation Rate (%)</th>\n",
       "      <th>Area</th>\n",
       "      <th>year</th>\n",
       "      <th>month</th>\n",
       "    </tr>\n",
       "  </thead>\n",
       "  <tbody>\n",
       "    <tr>\n",
       "      <th>0</th>\n",
       "      <td>Andhra Pradesh</td>\n",
       "      <td>2019-05-31</td>\n",
       "      <td>Monthly</td>\n",
       "      <td>3.65</td>\n",
       "      <td>11999139.0</td>\n",
       "      <td>43.24</td>\n",
       "      <td>Rural</td>\n",
       "      <td>2019</td>\n",
       "      <td>May</td>\n",
       "    </tr>\n",
       "    <tr>\n",
       "      <th>1</th>\n",
       "      <td>Andhra Pradesh</td>\n",
       "      <td>2019-06-30</td>\n",
       "      <td>Monthly</td>\n",
       "      <td>3.05</td>\n",
       "      <td>11755881.0</td>\n",
       "      <td>42.05</td>\n",
       "      <td>Rural</td>\n",
       "      <td>2019</td>\n",
       "      <td>Jun</td>\n",
       "    </tr>\n",
       "    <tr>\n",
       "      <th>2</th>\n",
       "      <td>Andhra Pradesh</td>\n",
       "      <td>2019-07-31</td>\n",
       "      <td>Monthly</td>\n",
       "      <td>3.75</td>\n",
       "      <td>12086707.0</td>\n",
       "      <td>43.50</td>\n",
       "      <td>Rural</td>\n",
       "      <td>2019</td>\n",
       "      <td>Jul</td>\n",
       "    </tr>\n",
       "    <tr>\n",
       "      <th>3</th>\n",
       "      <td>Andhra Pradesh</td>\n",
       "      <td>2019-08-31</td>\n",
       "      <td>Monthly</td>\n",
       "      <td>3.32</td>\n",
       "      <td>12285693.0</td>\n",
       "      <td>43.97</td>\n",
       "      <td>Rural</td>\n",
       "      <td>2019</td>\n",
       "      <td>Aug</td>\n",
       "    </tr>\n",
       "    <tr>\n",
       "      <th>4</th>\n",
       "      <td>Andhra Pradesh</td>\n",
       "      <td>2019-09-30</td>\n",
       "      <td>Monthly</td>\n",
       "      <td>5.17</td>\n",
       "      <td>12256762.0</td>\n",
       "      <td>44.68</td>\n",
       "      <td>Rural</td>\n",
       "      <td>2019</td>\n",
       "      <td>Sep</td>\n",
       "    </tr>\n",
       "  </tbody>\n",
       "</table>\n",
       "</div>"
      ],
      "text/plain": [
       "           Region       Date Frequency  Estimated Unemployment Rate (%)  \\\n",
       "0  Andhra Pradesh 2019-05-31   Monthly                             3.65   \n",
       "1  Andhra Pradesh 2019-06-30   Monthly                             3.05   \n",
       "2  Andhra Pradesh 2019-07-31   Monthly                             3.75   \n",
       "3  Andhra Pradesh 2019-08-31   Monthly                             3.32   \n",
       "4  Andhra Pradesh 2019-09-30   Monthly                             5.17   \n",
       "\n",
       "   Estimated Employed  Estimated Labour Participation Rate (%)   Area  year  \\\n",
       "0          11999139.0                                    43.24  Rural  2019   \n",
       "1          11755881.0                                    42.05  Rural  2019   \n",
       "2          12086707.0                                    43.50  Rural  2019   \n",
       "3          12285693.0                                    43.97  Rural  2019   \n",
       "4          12256762.0                                    44.68  Rural  2019   \n",
       "\n",
       "  month  \n",
       "0   May  \n",
       "1   Jun  \n",
       "2   Jul  \n",
       "3   Aug  \n",
       "4   Sep  "
      ]
     },
     "execution_count": 22,
     "metadata": {},
     "output_type": "execute_result"
    }
   ],
   "source": [
    "df.head()"
   ]
  },
  {
   "cell_type": "code",
   "execution_count": 24,
   "id": "81ef902c",
   "metadata": {},
   "outputs": [],
   "source": [
    "df=df.dropna(how='any',axis=0)"
   ]
  },
  {
   "cell_type": "code",
   "execution_count": 9,
   "id": "37c4b265",
   "metadata": {},
   "outputs": [],
   "source": [
    "import datetime"
   ]
  },
  {
   "cell_type": "code",
   "execution_count": 25,
   "id": "bdfb0f8b",
   "metadata": {},
   "outputs": [
    {
     "data": {
      "text/plain": [
       "<bound method DataFrame.isnull of              Region       Date Frequency  Estimated Unemployment Rate (%)  \\\n",
       "0    Andhra Pradesh 2019-05-31   Monthly                             3.65   \n",
       "1    Andhra Pradesh 2019-06-30   Monthly                             3.05   \n",
       "2    Andhra Pradesh 2019-07-31   Monthly                             3.75   \n",
       "3    Andhra Pradesh 2019-08-31   Monthly                             3.32   \n",
       "4    Andhra Pradesh 2019-09-30   Monthly                             5.17   \n",
       "..              ...        ...       ...                              ...   \n",
       "749     West Bengal 2020-02-29   Monthly                             7.55   \n",
       "750     West Bengal 2020-03-31   Monthly                             6.67   \n",
       "751     West Bengal 2020-04-30   Monthly                            15.63   \n",
       "752     West Bengal 2020-05-31   Monthly                            15.22   \n",
       "753     West Bengal 2020-06-30   Monthly                             9.86   \n",
       "\n",
       "     Estimated Employed  Estimated Labour Participation Rate (%)   Area  year  \\\n",
       "0            11999139.0                                    43.24  Rural  2019   \n",
       "1            11755881.0                                    42.05  Rural  2019   \n",
       "2            12086707.0                                    43.50  Rural  2019   \n",
       "3            12285693.0                                    43.97  Rural  2019   \n",
       "4            12256762.0                                    44.68  Rural  2019   \n",
       "..                  ...                                      ...    ...   ...   \n",
       "749          10871168.0                                    44.09  Urban  2020   \n",
       "750          10806105.0                                    43.34  Urban  2020   \n",
       "751           9299466.0                                    41.20  Urban  2020   \n",
       "752           9240903.0                                    40.67  Urban  2020   \n",
       "753           9088931.0                                    37.57  Urban  2020   \n",
       "\n",
       "    month  \n",
       "0     May  \n",
       "1     Jun  \n",
       "2     Jul  \n",
       "3     Aug  \n",
       "4     Sep  \n",
       "..    ...  \n",
       "749   Feb  \n",
       "750   Mar  \n",
       "751   Apr  \n",
       "752   May  \n",
       "753   Jun  \n",
       "\n",
       "[740 rows x 9 columns]>"
      ]
     },
     "execution_count": 25,
     "metadata": {},
     "output_type": "execute_result"
    }
   ],
   "source": [
    "df.isnull"
   ]
  },
  {
   "cell_type": "code",
   "execution_count": 11,
   "id": "50d30dc9",
   "metadata": {},
   "outputs": [
    {
     "name": "stdout",
     "output_type": "stream",
     "text": [
      "Region                                       object\n",
      " Date                                        object\n",
      " Frequency                                   object\n",
      " Estimated Unemployment Rate (%)            float64\n",
      " Estimated Employed                         float64\n",
      " Estimated Labour Participation Rate (%)    float64\n",
      "Area                                         object\n",
      "dtype: object\n"
     ]
    }
   ],
   "source": [
    "print(df.dtypes)\n",
    "\n"
   ]
  },
  {
   "cell_type": "code",
   "execution_count": 12,
   "id": "04d94abc",
   "metadata": {},
   "outputs": [
    {
     "data": {
      "text/plain": [
       "Index(['Region', ' Date', ' Frequency', ' Estimated Unemployment Rate (%)',\n",
       "       ' Estimated Employed', ' Estimated Labour Participation Rate (%)',\n",
       "       'Area'],\n",
       "      dtype='object')"
      ]
     },
     "execution_count": 12,
     "metadata": {},
     "output_type": "execute_result"
    }
   ],
   "source": [
    "df.columns"
   ]
  },
  {
   "cell_type": "code",
   "execution_count": 13,
   "id": "3f0530af",
   "metadata": {},
   "outputs": [
    {
     "name": "stdout",
     "output_type": "stream",
     "text": [
      "Index(['Region', 'Date', 'Frequency', 'Estimated Unemployment Rate (%)',\n",
      "       'Estimated Employed', 'Estimated Labour Participation Rate (%)',\n",
      "       'Area'],\n",
      "      dtype='object')\n"
     ]
    }
   ],
   "source": [
    "df.columns = df.columns.str.strip()\n",
    "print(df.columns)\n",
    "\n",
    "\n"
   ]
  },
  {
   "cell_type": "code",
   "execution_count": 14,
   "id": "9e5ba972",
   "metadata": {},
   "outputs": [
    {
     "name": "stderr",
     "output_type": "stream",
     "text": [
      "C:\\Users\\rjhon\\AppData\\Local\\Temp\\ipykernel_8416\\3386729631.py:1: UserWarning: Parsing dates in  %d-%m-%Y format when dayfirst=False (the default) was specified. Pass `dayfirst=True` or specify a format to silence this warning.\n",
      "  df['Date'] = pd.to_datetime(df['Date'])\n",
      "C:\\Users\\rjhon\\AppData\\Local\\Temp\\ipykernel_8416\\3386729631.py:1: SettingWithCopyWarning: \n",
      "A value is trying to be set on a copy of a slice from a DataFrame.\n",
      "Try using .loc[row_indexer,col_indexer] = value instead\n",
      "\n",
      "See the caveats in the documentation: https://pandas.pydata.org/pandas-docs/stable/user_guide/indexing.html#returning-a-view-versus-a-copy\n",
      "  df['Date'] = pd.to_datetime(df['Date'])\n"
     ]
    }
   ],
   "source": [
    "df['Date'] = pd.to_datetime(df['Date'])\n"
   ]
  },
  {
   "cell_type": "code",
   "execution_count": 15,
   "id": "2467201a",
   "metadata": {},
   "outputs": [
    {
     "name": "stdout",
     "output_type": "stream",
     "text": [
      "Region                                             object\n",
      "Date                                       datetime64[ns]\n",
      "Frequency                                          object\n",
      "Estimated Unemployment Rate (%)                   float64\n",
      "Estimated Employed                                float64\n",
      "Estimated Labour Participation Rate (%)           float64\n",
      "Area                                               object\n",
      "dtype: object\n"
     ]
    }
   ],
   "source": [
    "print(df.dtypes)"
   ]
  },
  {
   "cell_type": "code",
   "execution_count": 16,
   "id": "93e36c91",
   "metadata": {},
   "outputs": [
    {
     "name": "stderr",
     "output_type": "stream",
     "text": [
      "C:\\Users\\rjhon\\AppData\\Local\\Temp\\ipykernel_8416\\1517342338.py:2: SettingWithCopyWarning: \n",
      "A value is trying to be set on a copy of a slice from a DataFrame.\n",
      "Try using .loc[row_indexer,col_indexer] = value instead\n",
      "\n",
      "See the caveats in the documentation: https://pandas.pydata.org/pandas-docs/stable/user_guide/indexing.html#returning-a-view-versus-a-copy\n",
      "  df['year'] = df['Date'].dt.year\n",
      "C:\\Users\\rjhon\\AppData\\Local\\Temp\\ipykernel_8416\\1517342338.py:3: SettingWithCopyWarning: \n",
      "A value is trying to be set on a copy of a slice from a DataFrame.\n",
      "Try using .loc[row_indexer,col_indexer] = value instead\n",
      "\n",
      "See the caveats in the documentation: https://pandas.pydata.org/pandas-docs/stable/user_guide/indexing.html#returning-a-view-versus-a-copy\n",
      "  df['month'] = df['Date'].dt.month\n",
      "C:\\Users\\rjhon\\AppData\\Local\\Temp\\ipykernel_8416\\1517342338.py:4: SettingWithCopyWarning: \n",
      "A value is trying to be set on a copy of a slice from a DataFrame.\n",
      "Try using .loc[row_indexer,col_indexer] = value instead\n",
      "\n",
      "See the caveats in the documentation: https://pandas.pydata.org/pandas-docs/stable/user_guide/indexing.html#returning-a-view-versus-a-copy\n",
      "  df['month']=df['month'].apply(lambda x: calendar.month_abbr[x])\n"
     ]
    }
   ],
   "source": [
    "import calendar\n",
    "df['year'] = df['Date'].dt.year\n",
    "df['month'] = df['Date'].dt.month\n",
    "df['month']=df['month'].apply(lambda x: calendar.month_abbr[x])\n"
   ]
  },
  {
   "cell_type": "code",
   "execution_count": 17,
   "id": "74d80d80",
   "metadata": {},
   "outputs": [
    {
     "data": {
      "text/html": [
       "<div>\n",
       "<style scoped>\n",
       "    .dataframe tbody tr th:only-of-type {\n",
       "        vertical-align: middle;\n",
       "    }\n",
       "\n",
       "    .dataframe tbody tr th {\n",
       "        vertical-align: top;\n",
       "    }\n",
       "\n",
       "    .dataframe thead th {\n",
       "        text-align: right;\n",
       "    }\n",
       "</style>\n",
       "<table border=\"1\" class=\"dataframe\">\n",
       "  <thead>\n",
       "    <tr style=\"text-align: right;\">\n",
       "      <th></th>\n",
       "      <th>Region</th>\n",
       "      <th>Date</th>\n",
       "      <th>Frequency</th>\n",
       "      <th>Estimated Unemployment Rate (%)</th>\n",
       "      <th>Estimated Employed</th>\n",
       "      <th>Estimated Labour Participation Rate (%)</th>\n",
       "      <th>Area</th>\n",
       "      <th>year</th>\n",
       "      <th>month</th>\n",
       "    </tr>\n",
       "  </thead>\n",
       "  <tbody>\n",
       "    <tr>\n",
       "      <th>0</th>\n",
       "      <td>Andhra Pradesh</td>\n",
       "      <td>2019-05-31</td>\n",
       "      <td>Monthly</td>\n",
       "      <td>3.65</td>\n",
       "      <td>11999139.0</td>\n",
       "      <td>43.24</td>\n",
       "      <td>Rural</td>\n",
       "      <td>2019</td>\n",
       "      <td>May</td>\n",
       "    </tr>\n",
       "    <tr>\n",
       "      <th>1</th>\n",
       "      <td>Andhra Pradesh</td>\n",
       "      <td>2019-06-30</td>\n",
       "      <td>Monthly</td>\n",
       "      <td>3.05</td>\n",
       "      <td>11755881.0</td>\n",
       "      <td>42.05</td>\n",
       "      <td>Rural</td>\n",
       "      <td>2019</td>\n",
       "      <td>Jun</td>\n",
       "    </tr>\n",
       "    <tr>\n",
       "      <th>2</th>\n",
       "      <td>Andhra Pradesh</td>\n",
       "      <td>2019-07-31</td>\n",
       "      <td>Monthly</td>\n",
       "      <td>3.75</td>\n",
       "      <td>12086707.0</td>\n",
       "      <td>43.50</td>\n",
       "      <td>Rural</td>\n",
       "      <td>2019</td>\n",
       "      <td>Jul</td>\n",
       "    </tr>\n",
       "    <tr>\n",
       "      <th>3</th>\n",
       "      <td>Andhra Pradesh</td>\n",
       "      <td>2019-08-31</td>\n",
       "      <td>Monthly</td>\n",
       "      <td>3.32</td>\n",
       "      <td>12285693.0</td>\n",
       "      <td>43.97</td>\n",
       "      <td>Rural</td>\n",
       "      <td>2019</td>\n",
       "      <td>Aug</td>\n",
       "    </tr>\n",
       "    <tr>\n",
       "      <th>4</th>\n",
       "      <td>Andhra Pradesh</td>\n",
       "      <td>2019-09-30</td>\n",
       "      <td>Monthly</td>\n",
       "      <td>5.17</td>\n",
       "      <td>12256762.0</td>\n",
       "      <td>44.68</td>\n",
       "      <td>Rural</td>\n",
       "      <td>2019</td>\n",
       "      <td>Sep</td>\n",
       "    </tr>\n",
       "  </tbody>\n",
       "</table>\n",
       "</div>"
      ],
      "text/plain": [
       "           Region       Date Frequency  Estimated Unemployment Rate (%)  \\\n",
       "0  Andhra Pradesh 2019-05-31   Monthly                             3.65   \n",
       "1  Andhra Pradesh 2019-06-30   Monthly                             3.05   \n",
       "2  Andhra Pradesh 2019-07-31   Monthly                             3.75   \n",
       "3  Andhra Pradesh 2019-08-31   Monthly                             3.32   \n",
       "4  Andhra Pradesh 2019-09-30   Monthly                             5.17   \n",
       "\n",
       "   Estimated Employed  Estimated Labour Participation Rate (%)   Area  year  \\\n",
       "0          11999139.0                                    43.24  Rural  2019   \n",
       "1          11755881.0                                    42.05  Rural  2019   \n",
       "2          12086707.0                                    43.50  Rural  2019   \n",
       "3          12285693.0                                    43.97  Rural  2019   \n",
       "4          12256762.0                                    44.68  Rural  2019   \n",
       "\n",
       "  month  \n",
       "0   May  \n",
       "1   Jun  \n",
       "2   Jul  \n",
       "3   Aug  \n",
       "4   Sep  "
      ]
     },
     "execution_count": 17,
     "metadata": {},
     "output_type": "execute_result"
    }
   ],
   "source": [
    "df.head()"
   ]
  },
  {
   "cell_type": "code",
   "execution_count": null,
   "id": "6251ef60",
   "metadata": {},
   "outputs": [],
   "source": []
  },
  {
   "cell_type": "code",
   "execution_count": 18,
   "id": "82d67391",
   "metadata": {},
   "outputs": [
    {
     "name": "stdout",
     "output_type": "stream",
     "text": [
      "total_unemployment_2019=4041.5899999999997\n",
      "total_unemployment_2020=4681.49\n"
     ]
    }
   ],
   "source": [
    "df_2019=df[df['year']==2019]\n",
    "df_2020=df[df['year']==2020]\n",
    "\n",
    "total_unemployment_2019 = df_2019['Estimated Unemployment Rate (%)'].sum()\n",
    "total_unemployment_2020 = df_2020['Estimated Unemployment Rate (%)'].sum()\n",
    "print(f\"total_unemployment_2019={total_unemployment_2019}\")\n",
    "print(f\"total_unemployment_2020={total_unemployment_2020}\")\n",
    "\n",
    "\n",
    "\n",
    "\n"
   ]
  },
  {
   "cell_type": "code",
   "execution_count": 28,
   "id": "1b4eb6b4",
   "metadata": {},
   "outputs": [
    {
     "data": {
      "image/png": "[encoded data removed]",
      "text/plain": [
       "<Figure size 640x480 with 1 Axes>"
      ]
     },
     "metadata": {},
     "output_type": "display_data"
    }
   ],
   "source": [
    "\n",
    "\n",
    "# Sample data\n",
    "years = ['2019', '2020']\n",
    "unemployment_rates = [total_unemployment_2019, total_unemployment_2020]\n",
    "\n",
    "# Create bar chart\n",
    "plt.bar(years, unemployment_rates, color=['blue', 'orange'])\n",
    "\n",
    "# Add titles and labels\n",
    "plt.xlabel('Year')\n",
    "plt.ylabel('Total Unemployment Rate (%)')\n",
    "plt.title('Total Unemployment Rate for 2019 and 2020')\n",
    "\n",
    "# Display the chart\n",
    "plt.show()\n"
   ]
  },
  {
   "cell_type": "code",
   "execution_count": 30,
   "id": "06979e1a",
   "metadata": {},
   "outputs": [
    {
     "name": "stdout",
     "output_type": "stream",
     "text": [
      "total_unemployment_Urban=5016.48\n",
      "total_unemployment_Rural=3706.5999999999995\n"
     ]
    }
   ],
   "source": [
    "df_Urban = df[df['Area'] == 'Urban']\n",
    "df_Rural = df[df['Area'] == 'Rural']\n",
    "\n",
    "total_unemployment_Urban = df_Urban['Estimated Unemployment Rate (%)'].sum()\n",
    "total_unemployment_Rural = df_Rural['Estimated Unemployment Rate (%)'].sum()\n",
    "\n",
    "print(f\"total_unemployment_Urban={total_unemployment_Urban}\")\n",
    "print(f\"total_unemployment_Rural={total_unemployment_Rural}\")\n"
   ]
  },
  {
   "cell_type": "code",
   "execution_count": 31,
   "id": "03086590",
   "metadata": {},
   "outputs": [
    {
     "data": {
      "image/png": "[encoded data removed]",
      "text/plain": [
       "<Figure size 800x600 with 1 Axes>"
      ]
     },
     "metadata": {},
     "output_type": "display_data"
    }
   ],
   "source": [
    "\n",
    "\n",
    "# Assuming you already have df_Urban and df_Rural DataFrames filtered as before\n",
    "labels = ['Urban', 'Rural']\n",
    "sizes = [total_unemployment_Urban, total_unemployment_Rural]\n",
    "colors = ['lightblue', 'lightgreen']\n",
    "explode = (0.1, 0)  # explode the 1st slice (Urban)\n",
    "\n",
    "plt.figure(figsize=(8, 6))\n",
    "plt.pie(sizes, explode=explode, labels=labels, colors=colors, autopct='%1.1f%%', shadow=True, startangle=140)\n",
    "plt.title('Unemployment Rates: Urban vs Rural')\n",
    "plt.axis('equal')  # Equal aspect ratio ensures that pie is drawn as a circle.\n",
    "plt.show()\n"
   ]
  },
  {
   "cell_type": "code",
   "execution_count": null,
   "id": "a00dc21d",
   "metadata": {},
   "outputs": [],
   "source": []
  },
  {
   "cell_type": "code",
   "execution_count": 32,
   "id": "eb029d34",
   "metadata": {},
   "outputs": [
    {
     "name": "stdout",
     "output_type": "stream",
     "text": [
      "                                Date  Estimated Unemployment Rate (%)  \\\n",
      "count                            740                       740.000000   \n",
      "mean   2019-12-12 18:36:58.378378496                        11.787946   \n",
      "min              2019-05-31 00:00:00                         0.000000   \n",
      "25%              2019-08-31 00:00:00                         4.657500   \n",
      "50%              2019-11-30 00:00:00                         8.350000   \n",
      "75%              2020-03-31 00:00:00                        15.887500   \n",
      "max              2020-06-30 00:00:00                        76.740000   \n",
      "std                              NaN                        10.721298   \n",
      "\n",
      "       Estimated Employed  Estimated Labour Participation Rate (%)  \\\n",
      "count        7.400000e+02                               740.000000   \n",
      "mean         7.204460e+06                                42.630122   \n",
      "min          4.942000e+04                                13.330000   \n",
      "25%          1.190404e+06                                38.062500   \n",
      "50%          4.744178e+06                                41.160000   \n",
      "75%          1.127549e+07                                45.505000   \n",
      "max          4.577751e+07                                72.570000   \n",
      "std          8.087988e+06                                 8.111094   \n",
      "\n",
      "              year  \n",
      "count   740.000000  \n",
      "mean   2019.418919  \n",
      "min    2019.000000  \n",
      "25%    2019.000000  \n",
      "50%    2019.000000  \n",
      "75%    2020.000000  \n",
      "max    2020.000000  \n",
      "std       0.493716  \n",
      "Mean Unemployment Rate: 11.79%\n",
      "Median Unemployment Rate: 8.35%\n",
      "Standard Deviation of Unemployment Rate: 10.72%\n"
     ]
    }
   ],
   "source": [
    "# Summary statistics\n",
    "print(df.describe())\n",
    "\n",
    "# Mean unemployment rate\n",
    "mean_unemployment = df['Estimated Unemployment Rate (%)'].mean()\n",
    "print(f'Mean Unemployment Rate: {mean_unemployment:.2f}%')\n",
    "\n",
    "# Median unemployment rate\n",
    "median_unemployment = df['Estimated Unemployment Rate (%)'].median()\n",
    "print(f'Median Unemployment Rate: {median_unemployment:.2f}%')\n",
    "\n",
    "# Standard deviation of unemployment rate\n",
    "std_unemployment = df['Estimated Unemployment Rate (%)'].std()\n",
    "print(f'Standard Deviation of Unemployment Rate: {std_unemployment:.2f}%')\n"
   ]
  },
  {
   "cell_type": "code",
   "execution_count": 33,
   "id": "bde712c5",
   "metadata": {},
   "outputs": [
    {
     "data": {
      "image/png": "[encoded data removed]",
      "text/plain": [
       "<Figure size 1000x600 with 1 Axes>"
      ]
     },
     "metadata": {},
     "output_type": "display_data"
    }
   ],
   "source": [
    "\n",
    "\n",
    "# Plotting the bar plot for mean and standard deviation\n",
    "plt.figure(figsize=(10, 6))\n",
    "statistics = {'Mean': mean_unemployment, 'Standard Deviation': std_unemployment}\n",
    "names = list(statistics.keys())\n",
    "values = list(statistics.values())\n",
    "plt.bar(names, values, color=['blue', 'orange'])\n",
    "plt.title('Mean and Standard Deviation of Estimated Unemployment Rates')\n",
    "plt.ylabel('Percentage')\n",
    "for i in range(len(names)):\n",
    "    plt.text(i, values[i] + 0.1, f'{values[i]:.2f}%', ha='center')\n",
    "plt.show()\n"
   ]
  },
  {
   "cell_type": "code",
   "execution_count": 34,
   "id": "552f6a42",
   "metadata": {
    "scrolled": true
   },
   "outputs": [
    {
     "name": "stdout",
     "output_type": "stream",
     "text": [
      "Top 5 regions with the highest unemployment rates:\n",
      "         Region  Estimated Unemployment Rate (%)\n",
      "627  Puducherry                            76.74\n",
      "628  Puducherry                            75.00\n",
      "242  Puducherry                            74.51\n",
      "531   Jharkhand                            70.17\n",
      "530   Jharkhand                            61.48\n"
     ]
    },
    {
     "data": {
      "image/png": "[encoded data removed]",
      "text/plain": [
       "<Figure size 1000x800 with 1 Axes>"
      ]
     },
     "metadata": {},
     "output_type": "display_data"
    }
   ],
   "source": [
    "import pandas as pd\n",
    "import matplotlib.pyplot as plt\n",
    "import seaborn as sns\n",
    "\n",
    "# Sample DataFrame structure\n",
    "# df = pd.DataFrame({\n",
    "#     'Region': ['Region1', 'Region2', 'Region3', ...],\n",
    "#     'Estimated Unemployment Rate (%)': [rate1, rate2, rate3, ...]\n",
    "# })\n",
    "\n",
    "# Sort the DataFrame by 'Estimated Unemployment Rate (%)' in descending order and select the top 5 regions\n",
    "top_5_unemployment_regions = df.sort_values(by='Estimated Unemployment Rate (%)', ascending=False).head(5)\n",
    "\n",
    "print(\"Top 5 regions with the highest unemployment rates:\")\n",
    "print(top_5_unemployment_regions[['Region', 'Estimated Unemployment Rate (%)']])\n",
    "\n",
    "# Visualize the top 5 regions with the highest unemployment rates in a pie chart\n",
    "plt.figure(figsize=(10, 8))\n",
    "plt.pie(top_5_unemployment_regions['Estimated Unemployment Rate (%)'], \n",
    "        labels=top_5_unemployment_regions['Region'], \n",
    "        autopct='%1.1f%%', \n",
    "        startangle=140, \n",
    "        colors=sns.color_palette(\"viridis\", n_colors=5))\n",
    "\n",
    "plt.title('Top 5 Regions with the Highest Unemployment Rates')\n",
    "plt.show()\n"
   ]
  },
  {
   "cell_type": "code",
   "execution_count": null,
   "id": "8c093fc7",
   "metadata": {},
   "outputs": [],
   "source": []
  }
 ],
 "metadata": {
  "kernelspec": {
   "display_name": "Python 3 (ipykernel)",
   "language": "python",
   "name": "python3"
  },
  "language_info": {
   "codemirror_mode": {
    "name": "ipython",
    "version": 3
   },
   "file_extension": ".py",
   "mimetype": "text/x-python",
   "name": "python",
   "nbconvert_exporter": "python",
   "pygments_lexer": "ipython3",
   "version": "3.11.5"
  }
 },
 "nbformat": 4,
 "nbformat_minor": 5
}
